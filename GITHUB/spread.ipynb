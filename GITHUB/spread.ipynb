{
 "cells": [
  {
   "cell_type": "code",
   "execution_count": 420,
   "metadata": {},
   "outputs": [],
   "source": [
    "import numpy as np\n",
    "import pandas as pd"
   ]
  },
  {
   "cell_type": "code",
   "execution_count": 421,
   "metadata": {},
   "outputs": [],
   "source": [
    "deposit = pd.read_csv('/Users/tiziana/Desktop/PYTHON/TESI MAGISTRALE/DATI/FINANCIAL INDEX/CREDIT CYCLE/interest rate spread/DEPOSIT RATE/ELABORAZIONE PROPRIA/deposit def.csv')\n",
    "lending = pd.read_csv('/Users/tiziana/Desktop/PYTHON/TESI MAGISTRALE/DATI/FINANCIAL INDEX/CREDIT CYCLE/interest rate spread/LOANS TO CORPORATION/Lending.csv')\n"
   ]
  },
  {
   "cell_type": "code",
   "execution_count": 422,
   "metadata": {},
   "outputs": [
    {
     "name": "stdout",
     "output_type": "stream",
     "text": [
      "\n",
      "Indices of NaN values:\n",
      "MultiIndex([( 843, 'Deposit rate'),\n",
      "            ( 844, 'Deposit rate'),\n",
      "            ( 845, 'Deposit rate'),\n",
      "            ( 846, 'Deposit rate'),\n",
      "            ( 847, 'Deposit rate'),\n",
      "            ( 848, 'Deposit rate'),\n",
      "            ( 849, 'Deposit rate'),\n",
      "            ( 850, 'Deposit rate'),\n",
      "            ( 851, 'Deposit rate'),\n",
      "            ( 852, 'Deposit rate'),\n",
      "            ( 853, 'Deposit rate'),\n",
      "            ( 854, 'Deposit rate'),\n",
      "            ( 855, 'Deposit rate'),\n",
      "            ( 856, 'Deposit rate'),\n",
      "            ( 857, 'Deposit rate'),\n",
      "            ( 858, 'Deposit rate'),\n",
      "            ( 859, 'Deposit rate'),\n",
      "            ( 860, 'Deposit rate'),\n",
      "            ( 861, 'Deposit rate'),\n",
      "            ( 862, 'Deposit rate'),\n",
      "            ( 863, 'Deposit rate'),\n",
      "            ( 864, 'Deposit rate'),\n",
      "            ( 920, 'Deposit rate'),\n",
      "            ( 921, 'Deposit rate'),\n",
      "            ( 922, 'Deposit rate'),\n",
      "            ( 923, 'Deposit rate'),\n",
      "            ( 924, 'Deposit rate'),\n",
      "            ( 925, 'Deposit rate'),\n",
      "            ( 926, 'Deposit rate'),\n",
      "            ( 927, 'Deposit rate'),\n",
      "            ( 928, 'Deposit rate'),\n",
      "            ( 929, 'Deposit rate'),\n",
      "            ( 930, 'Deposit rate'),\n",
      "            ( 931, 'Deposit rate'),\n",
      "            ( 932, 'Deposit rate'),\n",
      "            ( 933, 'Deposit rate'),\n",
      "            ( 934, 'Deposit rate'),\n",
      "            ( 935, 'Deposit rate'),\n",
      "            (1196, 'Deposit rate'),\n",
      "            (1197, 'Deposit rate')],\n",
      "           )\n"
     ]
    }
   ],
   "source": [
    "nan_positions = deposit.isna()\n",
    "nan_indices = nan_positions.stack()[nan_positions.stack()]\n",
    "print(\"\\nIndices of NaN values:\")\n",
    "print(nan_indices.index[30:70])"
   ]
  },
  {
   "cell_type": "code",
   "execution_count": 423,
   "metadata": {},
   "outputs": [
    {
     "name": "stderr",
     "output_type": "stream",
     "text": [
      "/var/folders/dh/zp5lxqxj269938btf9rcxlh40000gn/T/ipykernel_2571/3079417694.py:1: FutureWarning: The default value of numeric_only in DataFrameGroupBy.sum is deprecated. In a future version, numeric_only will default to False. Either specify numeric_only or select only columns which should be valid for the function.\n",
      "  deposit.groupby('Country').sum().index\n"
     ]
    }
   ],
   "source": [
    "deposit.groupby('Country').sum().index\n",
    "deposit.set_index('Country',inplace=True)\n",
    "USA = deposit.loc['United States']\n",
    "deposit = deposit.reset_index()"
   ]
  },
  {
   "cell_type": "code",
   "execution_count": 424,
   "metadata": {},
   "outputs": [
    {
     "name": "stderr",
     "output_type": "stream",
     "text": [
      "/var/folders/dh/zp5lxqxj269938btf9rcxlh40000gn/T/ipykernel_2571/4055878068.py:1: FutureWarning: The default value of numeric_only in DataFrameGroupBy.sum is deprecated. In a future version, numeric_only will default to False. Either specify numeric_only or select only columns which should be valid for the function.\n",
      "  lending.groupby('Country').sum().index\n"
     ]
    },
    {
     "data": {
      "text/plain": [
       "Index(['Austria', 'Belgium', 'Canada', 'Finland', 'France', 'Germany',\n",
       "       'Greece', 'Ireland', 'Italy', 'Japan', 'Lettonia', 'Lituania',\n",
       "       'Netherlands', 'Portugal', 'Slovakia', 'Spain', 'United Kingdom',\n",
       "       'United States'],\n",
       "      dtype='object', name='Country')"
      ]
     },
     "execution_count": 424,
     "metadata": {},
     "output_type": "execute_result"
    }
   ],
   "source": [
    "lending.groupby('Country').sum().index"
   ]
  },
  {
   "cell_type": "code",
   "execution_count": 425,
   "metadata": {},
   "outputs": [
    {
     "name": "stderr",
     "output_type": "stream",
     "text": [
      "/var/folders/dh/zp5lxqxj269938btf9rcxlh40000gn/T/ipykernel_2571/3355886464.py:1: FutureWarning: The default value of numeric_only in DataFrameGroupBy.sum is deprecated. In a future version, numeric_only will default to False. Either specify numeric_only or select only columns which should be valid for the function.\n",
      "  lending.groupby('Country').sum().index\n"
     ]
    }
   ],
   "source": [
    "lending.groupby('Country').sum().index\n",
    "criterio = {'Lituania': 'Lithuania', 'Lettonia':'Latvia'}\n",
    "lending = lending.replace(criterio)\n"
   ]
  },
  {
   "cell_type": "code",
   "execution_count": 426,
   "metadata": {},
   "outputs": [],
   "source": [
    "lending.set_index('Country',inplace=True)\n"
   ]
  },
  {
   "cell_type": "code",
   "execution_count": 427,
   "metadata": {},
   "outputs": [],
   "source": [
    "rate = pd.merge(deposit, lending, on=['Country', 'Trimestre'])\n",
    "rate = rate[['Country','Trimestre','Deposit rate','Lendin rate']]\n"
   ]
  },
  {
   "cell_type": "code",
   "execution_count": 428,
   "metadata": {},
   "outputs": [
    {
     "name": "stderr",
     "output_type": "stream",
     "text": [
      "/var/folders/dh/zp5lxqxj269938btf9rcxlh40000gn/T/ipykernel_2571/124390430.py:1: FutureWarning: The default value of numeric_only in DataFrameGroupBy.sum is deprecated. In a future version, numeric_only will default to False. Either specify numeric_only or select only columns which should be valid for the function.\n",
      "  rate.groupby('Country').sum().index\n"
     ]
    },
    {
     "data": {
      "text/plain": [
       "Index(['Austria', 'Belgium', 'Canada', 'Finland', 'France', 'Germany',\n",
       "       'Greece', 'Ireland', 'Italy', 'Japan', 'Latvia', 'Lithuania',\n",
       "       'Netherlands', 'Portugal', 'Slovakia', 'Spain', 'United Kingdom',\n",
       "       'United States'],\n",
       "      dtype='object', name='Country')"
      ]
     },
     "execution_count": 428,
     "metadata": {},
     "output_type": "execute_result"
    }
   ],
   "source": [
    "rate.groupby('Country').sum().index"
   ]
  },
  {
   "cell_type": "markdown",
   "metadata": {},
   "source": [
    "## DAJE CO STO SPREAD"
   ]
  },
  {
   "cell_type": "code",
   "execution_count": 429,
   "metadata": {},
   "outputs": [],
   "source": [
    "\n",
    "rate['Spread'] = rate['Lendin rate']-rate['Deposit rate']"
   ]
  },
  {
   "cell_type": "code",
   "execution_count": 430,
   "metadata": {},
   "outputs": [],
   "source": [
    "Spread = rate[['Country','Trimestre','Spread']]\n"
   ]
  },
  {
   "cell_type": "code",
   "execution_count": 431,
   "metadata": {},
   "outputs": [
    {
     "data": {
      "text/plain": [
       "0     2000Q1\n",
       "1     2000Q2\n",
       "2     2000Q3\n",
       "3     2000Q4\n",
       "4     2001Q1\n",
       "       ...  \n",
       "87    2021Q4\n",
       "88    2022Q1\n",
       "89    2022Q2\n",
       "90    2022Q3\n",
       "91    2022Q4\n",
       "Name: Trimestre, Length: 92, dtype: object"
      ]
     },
     "execution_count": 431,
     "metadata": {},
     "output_type": "execute_result"
    }
   ],
   "source": [
    "trimestri = Spread['Trimestre'][0:92]\n",
    "trimestri"
   ]
  },
  {
   "cell_type": "markdown",
   "metadata": {},
   "source": [
    "## LO CREO ANCHE PER LA SVEZIA A PARTIRE DATI BANCA CENTRALE\n",
    "**https://www.riksbank.se/en-gb/statistics/interest-rates-and-exchange-rates/search-interest-rates-and-exchange-rates/?s=g2-SECBDEPOEFF&s=g2-SECBLENDEFF&a=Q&from=2000-01-03&to=2022-12-30&c=Ultimo&fs=3#result-section**"
   ]
  },
  {
   "cell_type": "code",
   "execution_count": 432,
   "metadata": {},
   "outputs": [],
   "source": [
    "\n",
    "Sweden = pd.read_excel('/Users/tiziana/Desktop/PYTHON/TESI MAGISTRALE/DATI/FINANCIAL INDEX/CREDIT CYCLE/interest rate spread/DATI MESSI TUTTI INSIEME/ADVANCED RESULT_2024-05-17_08_48.xlsx')\n",
    "Sweden.head(20)\n",
    "\n",
    "\n",
    "Sweden.columns = ['Trimestre','Deposit rate','Lendin rate']\n",
    "Sweden['Country'] = 'Sweden'\n",
    "Sweden['Trimestre'][4:96]= trimestri\n",
    "\n",
    "Sweden['Spread'] = Sweden['Lendin rate'].iloc[4:96] -Sweden['Deposit rate'].iloc[4:96]"
   ]
  },
  {
   "cell_type": "code",
   "execution_count": 433,
   "metadata": {},
   "outputs": [
    {
     "data": {
      "text/html": [
       "<div>\n",
       "<style scoped>\n",
       "    .dataframe tbody tr th:only-of-type {\n",
       "        vertical-align: middle;\n",
       "    }\n",
       "\n",
       "    .dataframe tbody tr th {\n",
       "        vertical-align: top;\n",
       "    }\n",
       "\n",
       "    .dataframe thead th {\n",
       "        text-align: right;\n",
       "    }\n",
       "</style>\n",
       "<table border=\"1\" class=\"dataframe\">\n",
       "  <thead>\n",
       "    <tr style=\"text-align: right;\">\n",
       "      <th></th>\n",
       "      <th>Trimestre</th>\n",
       "      <th>Deposit rate</th>\n",
       "      <th>Lendin rate</th>\n",
       "      <th>Country</th>\n",
       "      <th>Spread</th>\n",
       "    </tr>\n",
       "  </thead>\n",
       "  <tbody>\n",
       "    <tr>\n",
       "      <th>0</th>\n",
       "      <td>ADVANCED RESULT 03/01/2000 - 30/12/2022</td>\n",
       "      <td>NaN</td>\n",
       "      <td>NaN</td>\n",
       "      <td>Sweden</td>\n",
       "      <td>NaN</td>\n",
       "    </tr>\n",
       "    <tr>\n",
       "      <th>1</th>\n",
       "      <td>Period</td>\n",
       "      <td>Riksbank key interest rates</td>\n",
       "      <td>NaN</td>\n",
       "      <td>Sweden</td>\n",
       "      <td>NaN</td>\n",
       "    </tr>\n",
       "    <tr>\n",
       "      <th>2</th>\n",
       "      <td>NaN</td>\n",
       "      <td>Deposit rate</td>\n",
       "      <td>Lending rate</td>\n",
       "      <td>Sweden</td>\n",
       "      <td>NaN</td>\n",
       "    </tr>\n",
       "    <tr>\n",
       "      <th>3</th>\n",
       "      <td>Period</td>\n",
       "      <td>Average</td>\n",
       "      <td>Average</td>\n",
       "      <td>Sweden</td>\n",
       "      <td>NaN</td>\n",
       "    </tr>\n",
       "    <tr>\n",
       "      <th>4</th>\n",
       "      <td>2000Q1</td>\n",
       "      <td>2.75</td>\n",
       "      <td>4.25</td>\n",
       "      <td>Sweden</td>\n",
       "      <td>1.5</td>\n",
       "    </tr>\n",
       "    <tr>\n",
       "      <th>...</th>\n",
       "      <td>...</td>\n",
       "      <td>...</td>\n",
       "      <td>...</td>\n",
       "      <td>...</td>\n",
       "      <td>...</td>\n",
       "    </tr>\n",
       "    <tr>\n",
       "      <th>101</th>\n",
       "      <td>Source: Sveriges Riksbank</td>\n",
       "      <td>NaN</td>\n",
       "      <td>NaN</td>\n",
       "      <td>Sweden</td>\n",
       "      <td>NaN</td>\n",
       "    </tr>\n",
       "    <tr>\n",
       "      <th>102</th>\n",
       "      <td>NaN</td>\n",
       "      <td>NaN</td>\n",
       "      <td>NaN</td>\n",
       "      <td>Sweden</td>\n",
       "      <td>NaN</td>\n",
       "    </tr>\n",
       "    <tr>\n",
       "      <th>103</th>\n",
       "      <td>Lending rate (1994-06-01 - )</td>\n",
       "      <td>NaN</td>\n",
       "      <td>NaN</td>\n",
       "      <td>Sweden</td>\n",
       "      <td>NaN</td>\n",
       "    </tr>\n",
       "    <tr>\n",
       "      <th>104</th>\n",
       "      <td>The lending rate is the rate of interest banks...</td>\n",
       "      <td>NaN</td>\n",
       "      <td>NaN</td>\n",
       "      <td>Sweden</td>\n",
       "      <td>NaN</td>\n",
       "    </tr>\n",
       "    <tr>\n",
       "      <th>105</th>\n",
       "      <td>Source: Sveriges Riksbank</td>\n",
       "      <td>NaN</td>\n",
       "      <td>NaN</td>\n",
       "      <td>Sweden</td>\n",
       "      <td>NaN</td>\n",
       "    </tr>\n",
       "  </tbody>\n",
       "</table>\n",
       "<p>106 rows × 5 columns</p>\n",
       "</div>"
      ],
      "text/plain": [
       "                                             Trimestre  \\\n",
       "0              ADVANCED RESULT 03/01/2000 - 30/12/2022   \n",
       "1                                               Period   \n",
       "2                                                  NaN   \n",
       "3                                               Period   \n",
       "4                                               2000Q1   \n",
       "..                                                 ...   \n",
       "101                          Source: Sveriges Riksbank   \n",
       "102                                                NaN   \n",
       "103                       Lending rate (1994-06-01 - )   \n",
       "104  The lending rate is the rate of interest banks...   \n",
       "105                          Source: Sveriges Riksbank   \n",
       "\n",
       "                    Deposit rate   Lendin rate Country Spread  \n",
       "0                            NaN           NaN  Sweden    NaN  \n",
       "1    Riksbank key interest rates           NaN  Sweden    NaN  \n",
       "2                   Deposit rate  Lending rate  Sweden    NaN  \n",
       "3                        Average       Average  Sweden    NaN  \n",
       "4                           2.75          4.25  Sweden    1.5  \n",
       "..                           ...           ...     ...    ...  \n",
       "101                          NaN           NaN  Sweden    NaN  \n",
       "102                          NaN           NaN  Sweden    NaN  \n",
       "103                          NaN           NaN  Sweden    NaN  \n",
       "104                          NaN           NaN  Sweden    NaN  \n",
       "105                          NaN           NaN  Sweden    NaN  \n",
       "\n",
       "[106 rows x 5 columns]"
      ]
     },
     "execution_count": 433,
     "metadata": {},
     "output_type": "execute_result"
    }
   ],
   "source": [
    "Sweden"
   ]
  },
  {
   "cell_type": "code",
   "execution_count": 434,
   "metadata": {},
   "outputs": [],
   "source": [
    "Swe =Sweden.loc[4:95]\n",
    "Swe = Swe[['Trimestre','Country','Spread']]\n",
    "\n",
    "mean = Swe['Spread'].mean()\n",
    "std = Swe['Spread'].std()\n",
    "\n",
    "Swe['Spread'] = (Swe['Spread'] - mean) / std"
   ]
  },
  {
   "cell_type": "code",
   "execution_count": 435,
   "metadata": {},
   "outputs": [
    {
     "data": {
      "text/html": [
       "<div>\n",
       "<style scoped>\n",
       "    .dataframe tbody tr th:only-of-type {\n",
       "        vertical-align: middle;\n",
       "    }\n",
       "\n",
       "    .dataframe tbody tr th {\n",
       "        vertical-align: top;\n",
       "    }\n",
       "\n",
       "    .dataframe thead th {\n",
       "        text-align: right;\n",
       "    }\n",
       "</style>\n",
       "<table border=\"1\" class=\"dataframe\">\n",
       "  <thead>\n",
       "    <tr style=\"text-align: right;\">\n",
       "      <th></th>\n",
       "      <th>Trimestre</th>\n",
       "      <th>Country</th>\n",
       "      <th>Spread</th>\n",
       "    </tr>\n",
       "  </thead>\n",
       "  <tbody>\n",
       "    <tr>\n",
       "      <th>4</th>\n",
       "      <td>2000Q1</td>\n",
       "      <td>Sweden</td>\n",
       "      <td>0.452924</td>\n",
       "    </tr>\n",
       "    <tr>\n",
       "      <th>5</th>\n",
       "      <td>2000Q2</td>\n",
       "      <td>Sweden</td>\n",
       "      <td>0.452924</td>\n",
       "    </tr>\n",
       "    <tr>\n",
       "      <th>6</th>\n",
       "      <td>2000Q3</td>\n",
       "      <td>Sweden</td>\n",
       "      <td>0.452924</td>\n",
       "    </tr>\n",
       "    <tr>\n",
       "      <th>7</th>\n",
       "      <td>2000Q4</td>\n",
       "      <td>Sweden</td>\n",
       "      <td>0.452924</td>\n",
       "    </tr>\n",
       "    <tr>\n",
       "      <th>8</th>\n",
       "      <td>2001Q1</td>\n",
       "      <td>Sweden</td>\n",
       "      <td>0.452924</td>\n",
       "    </tr>\n",
       "    <tr>\n",
       "      <th>...</th>\n",
       "      <td>...</td>\n",
       "      <td>...</td>\n",
       "      <td>...</td>\n",
       "    </tr>\n",
       "    <tr>\n",
       "      <th>91</th>\n",
       "      <td>2021Q4</td>\n",
       "      <td>Sweden</td>\n",
       "      <td>-2.565587</td>\n",
       "    </tr>\n",
       "    <tr>\n",
       "      <th>92</th>\n",
       "      <td>2022Q1</td>\n",
       "      <td>Sweden</td>\n",
       "      <td>-2.565587</td>\n",
       "    </tr>\n",
       "    <tr>\n",
       "      <th>93</th>\n",
       "      <td>2022Q2</td>\n",
       "      <td>Sweden</td>\n",
       "      <td>-2.565587</td>\n",
       "    </tr>\n",
       "    <tr>\n",
       "      <th>94</th>\n",
       "      <td>2022Q3</td>\n",
       "      <td>Sweden</td>\n",
       "      <td>-2.565587</td>\n",
       "    </tr>\n",
       "    <tr>\n",
       "      <th>95</th>\n",
       "      <td>2022Q4</td>\n",
       "      <td>Sweden</td>\n",
       "      <td>-2.565587</td>\n",
       "    </tr>\n",
       "  </tbody>\n",
       "</table>\n",
       "<p>92 rows × 3 columns</p>\n",
       "</div>"
      ],
      "text/plain": [
       "   Trimestre Country    Spread\n",
       "4     2000Q1  Sweden  0.452924\n",
       "5     2000Q2  Sweden  0.452924\n",
       "6     2000Q3  Sweden  0.452924\n",
       "7     2000Q4  Sweden  0.452924\n",
       "8     2001Q1  Sweden  0.452924\n",
       "..       ...     ...       ...\n",
       "91    2021Q4  Sweden -2.565587\n",
       "92    2022Q1  Sweden -2.565587\n",
       "93    2022Q2  Sweden -2.565587\n",
       "94    2022Q3  Sweden -2.565587\n",
       "95    2022Q4  Sweden -2.565587\n",
       "\n",
       "[92 rows x 3 columns]"
      ]
     },
     "execution_count": 435,
     "metadata": {},
     "output_type": "execute_result"
    }
   ],
   "source": [
    "Swe"
   ]
  },
  {
   "cell_type": "markdown",
   "metadata": {},
   "source": [
    "## HO CREATO MANUALMENTE UN DATABASE DATO DALLA DIFFERENZA TRA IL TASSO DI PRESTITO E DEPOSITO NEI VARI PAESI"
   ]
  },
  {
   "cell_type": "code",
   "execution_count": 436,
   "metadata": {},
   "outputs": [],
   "source": [
    "spread = pd.concat([Spread,Swe],axis=0)\n"
   ]
  },
  {
   "cell_type": "code",
   "execution_count": 437,
   "metadata": {},
   "outputs": [],
   "source": [
    "spread.set_index(['Country','Trimestre'],inplace=True)"
   ]
  },
  {
   "cell_type": "markdown",
   "metadata": {},
   "source": [
    "## IMPUTAZIONE BELGIO CON IL VALORE MEDIO\n"
   ]
  },
  {
   "cell_type": "code",
   "execution_count": 438,
   "metadata": {},
   "outputs": [],
   "source": [
    "trimestri = ['2003Q1', '2003Q2','2003Q3', '2003Q4', '2004Q1', '2004Q2', '2004Q3', '2004Q4', '2005Q1','2005Q2', '2005Q3', '2005Q4','2006Q1','2006Q2','2006Q3','2010Q3','2010Q4']\n",
    "mean = spread.loc['Belgium'].mean()\n",
    "\n",
    "for trimestre in trimestri:\n",
    "\n",
    "    spread.loc[('Belgium',trimestre)] = mean"
   ]
  },
  {
   "cell_type": "code",
   "execution_count": 439,
   "metadata": {},
   "outputs": [
    {
     "name": "stdout",
     "output_type": "stream",
     "text": [
      "\n",
      "Indices of NaN values:\n",
      "MultiIndex([('Lithuania', '2000Q1', 'Spread'),\n",
      "            ('Lithuania', '2000Q2', 'Spread'),\n",
      "            ('Lithuania', '2000Q3', 'Spread'),\n",
      "            ('Lithuania', '2000Q4', 'Spread'),\n",
      "            ('Lithuania', '2001Q1', 'Spread'),\n",
      "            ('Lithuania', '2001Q2', 'Spread'),\n",
      "            ('Lithuania', '2001Q3', 'Spread'),\n",
      "            ('Lithuania', '2001Q4', 'Spread'),\n",
      "            ('Lithuania', '2002Q1', 'Spread'),\n",
      "            ('Lithuania', '2002Q2', 'Spread'),\n",
      "            ('Lithuania', '2002Q3', 'Spread'),\n",
      "            ('Lithuania', '2002Q4', 'Spread'),\n",
      "            ('Lithuania', '2003Q1', 'Spread'),\n",
      "            ('Lithuania', '2003Q2', 'Spread'),\n",
      "            ('Lithuania', '2003Q3', 'Spread'),\n",
      "            ('Lithuania', '2003Q4', 'Spread'),\n",
      "            ('Lithuania', '2004Q1', 'Spread'),\n",
      "            ('Lithuania', '2004Q2', 'Spread'),\n",
      "            ('Lithuania', '2004Q3', 'Spread'),\n",
      "            ('Lithuania', '2004Q4', 'Spread'),\n",
      "            ('Lithuania', '2005Q1', 'Spread'),\n",
      "            ('Lithuania', '2005Q2', 'Spread'),\n",
      "            ('Lithuania', '2005Q3', 'Spread'),\n",
      "            ('Lithuania', '2005Q4', 'Spread'),\n",
      "            ('Lithuania', '2006Q1', 'Spread'),\n",
      "            ('Lithuania', '2006Q2', 'Spread'),\n",
      "            ('Lithuania', '2006Q3', 'Spread'),\n",
      "            ('Lithuania', '2006Q4', 'Spread'),\n",
      "            ('Lithuania', '2007Q1', 'Spread'),\n",
      "            ('Lithuania', '2007Q2', 'Spread'),\n",
      "            ('Lithuania', '2007Q3', 'Spread'),\n",
      "            ('Lithuania', '2007Q4', 'Spread'),\n",
      "            ('Lithuania', '2008Q1', 'Spread'),\n",
      "            ('Lithuania', '2008Q2', 'Spread'),\n",
      "            ('Lithuania', '2008Q3', 'Spread'),\n",
      "            ('Lithuania', '2008Q4', 'Spread'),\n",
      "            ('Lithuania', '2009Q1', 'Spread'),\n",
      "            (   'Latvia', '2000Q1', 'Spread'),\n",
      "            (   'Latvia', '2000Q2', 'Spread'),\n",
      "            (   'Latvia', '2000Q3', 'Spread'),\n",
      "            (   'Latvia', '2000Q4', 'Spread'),\n",
      "            (   'Latvia', '2001Q1', 'Spread'),\n",
      "            (   'Latvia', '2001Q2', 'Spread'),\n",
      "            (   'Latvia', '2001Q3', 'Spread'),\n",
      "            (   'Latvia', '2001Q4', 'Spread'),\n",
      "            (   'Latvia', '2002Q1', 'Spread'),\n",
      "            (   'Latvia', '2002Q2', 'Spread'),\n",
      "            (   'Latvia', '2002Q3', 'Spread'),\n",
      "            (   'Latvia', '2002Q4', 'Spread'),\n",
      "            (   'Latvia', '2003Q1', 'Spread'),\n",
      "            (   'Latvia', '2003Q2', 'Spread'),\n",
      "            (   'Latvia', '2003Q3', 'Spread'),\n",
      "            (   'Latvia', '2003Q4', 'Spread'),\n",
      "            ( 'Slovakia', '2000Q1', 'Spread'),\n",
      "            ( 'Slovakia', '2000Q2', 'Spread'),\n",
      "            ( 'Slovakia', '2000Q3', 'Spread'),\n",
      "            ( 'Slovakia', '2000Q4', 'Spread'),\n",
      "            ( 'Slovakia', '2001Q1', 'Spread'),\n",
      "            ( 'Slovakia', '2001Q2', 'Spread'),\n",
      "            ( 'Slovakia', '2001Q3', 'Spread'),\n",
      "            ( 'Slovakia', '2001Q4', 'Spread'),\n",
      "            ( 'Slovakia', '2002Q1', 'Spread'),\n",
      "            ( 'Slovakia', '2002Q2', 'Spread'),\n",
      "            ( 'Slovakia', '2002Q3', 'Spread'),\n",
      "            ( 'Slovakia', '2002Q4', 'Spread'),\n",
      "            ( 'Slovakia', '2003Q1', 'Spread'),\n",
      "            ( 'Slovakia', '2003Q2', 'Spread'),\n",
      "            ( 'Slovakia', '2003Q3', 'Spread'),\n",
      "            ( 'Slovakia', '2003Q4', 'Spread'),\n",
      "            ( 'Slovakia', '2004Q1', 'Spread'),\n",
      "            ( 'Slovakia', '2004Q2', 'Spread'),\n",
      "            ( 'Slovakia', '2004Q3', 'Spread'),\n",
      "            ( 'Slovakia', '2004Q4', 'Spread'),\n",
      "            ( 'Slovakia', '2005Q1', 'Spread'),\n",
      "            ( 'Slovakia', '2005Q2', 'Spread'),\n",
      "            ( 'Slovakia', '2005Q3', 'Spread'),\n",
      "            ( 'Slovakia', '2005Q4', 'Spread'),\n",
      "            ( 'Slovakia', '2006Q1', 'Spread'),\n",
      "            ( 'Slovakia', '2006Q2', 'Spread'),\n",
      "            ( 'Slovakia', '2006Q3', 'Spread'),\n",
      "            ( 'Slovakia', '2006Q4', 'Spread'),\n",
      "            ( 'Slovakia', '2007Q1', 'Spread'),\n",
      "            ( 'Slovakia', '2007Q2', 'Spread'),\n",
      "            ( 'Slovakia', '2007Q3', 'Spread'),\n",
      "            ( 'Slovakia', '2007Q4', 'Spread')],\n",
      "           names=['Country', 'Trimestre', None])\n"
     ]
    }
   ],
   "source": [
    "nan_positions = spread.isna()\n",
    "nan_indices = nan_positions.stack()[nan_positions.stack()]\n",
    "print(\"\\nIndices of NaN values:\")\n",
    "print(nan_indices.index)"
   ]
  },
  {
   "cell_type": "code",
   "execution_count": 440,
   "metadata": {},
   "outputs": [
    {
     "data": {
      "text/html": [
       "<div>\n",
       "<style scoped>\n",
       "    .dataframe tbody tr th:only-of-type {\n",
       "        vertical-align: middle;\n",
       "    }\n",
       "\n",
       "    .dataframe tbody tr th {\n",
       "        vertical-align: top;\n",
       "    }\n",
       "\n",
       "    .dataframe thead th {\n",
       "        text-align: right;\n",
       "    }\n",
       "</style>\n",
       "<table border=\"1\" class=\"dataframe\">\n",
       "  <thead>\n",
       "    <tr style=\"text-align: right;\">\n",
       "      <th></th>\n",
       "      <th></th>\n",
       "      <th>Spread</th>\n",
       "    </tr>\n",
       "    <tr>\n",
       "      <th>Country</th>\n",
       "      <th>Trimestre</th>\n",
       "      <th></th>\n",
       "    </tr>\n",
       "  </thead>\n",
       "  <tbody>\n",
       "    <tr>\n",
       "      <th rowspan=\"5\" valign=\"top\">Austria</th>\n",
       "      <th>2000Q1</th>\n",
       "      <td>0.591463</td>\n",
       "    </tr>\n",
       "    <tr>\n",
       "      <th>2000Q2</th>\n",
       "      <td>0.616734</td>\n",
       "    </tr>\n",
       "    <tr>\n",
       "      <th>2000Q3</th>\n",
       "      <td>0.497079</td>\n",
       "    </tr>\n",
       "    <tr>\n",
       "      <th>2000Q4</th>\n",
       "      <td>0.413858</td>\n",
       "    </tr>\n",
       "    <tr>\n",
       "      <th>2001Q1</th>\n",
       "      <td>0.378304</td>\n",
       "    </tr>\n",
       "    <tr>\n",
       "      <th>...</th>\n",
       "      <th>...</th>\n",
       "      <td>...</td>\n",
       "    </tr>\n",
       "    <tr>\n",
       "      <th rowspan=\"5\" valign=\"top\">Sweden</th>\n",
       "      <th>2021Q4</th>\n",
       "      <td>-2.565587</td>\n",
       "    </tr>\n",
       "    <tr>\n",
       "      <th>2022Q1</th>\n",
       "      <td>-2.565587</td>\n",
       "    </tr>\n",
       "    <tr>\n",
       "      <th>2022Q2</th>\n",
       "      <td>-2.565587</td>\n",
       "    </tr>\n",
       "    <tr>\n",
       "      <th>2022Q3</th>\n",
       "      <td>-2.565587</td>\n",
       "    </tr>\n",
       "    <tr>\n",
       "      <th>2022Q4</th>\n",
       "      <td>-2.565587</td>\n",
       "    </tr>\n",
       "  </tbody>\n",
       "</table>\n",
       "<p>1723 rows × 1 columns</p>\n",
       "</div>"
      ],
      "text/plain": [
       "                     Spread\n",
       "Country Trimestre          \n",
       "Austria 2000Q1     0.591463\n",
       "        2000Q2     0.616734\n",
       "        2000Q3     0.497079\n",
       "        2000Q4     0.413858\n",
       "        2001Q1     0.378304\n",
       "...                     ...\n",
       "Sweden  2021Q4    -2.565587\n",
       "        2022Q1    -2.565587\n",
       "        2022Q2    -2.565587\n",
       "        2022Q3    -2.565587\n",
       "        2022Q4    -2.565587\n",
       "\n",
       "[1723 rows x 1 columns]"
      ]
     },
     "execution_count": 440,
     "metadata": {},
     "output_type": "execute_result"
    }
   ],
   "source": [
    "spread"
   ]
  },
  {
   "cell_type": "code",
   "execution_count": 441,
   "metadata": {},
   "outputs": [],
   "source": [
    "spread.to_csv('SPREAD DEFINITIVO.csv')"
   ]
  }
 ],
 "metadata": {
  "kernelspec": {
   "display_name": "qmp_env",
   "language": "python",
   "name": "python3"
  },
  "language_info": {
   "codemirror_mode": {
    "name": "ipython",
    "version": 3
   },
   "file_extension": ".py",
   "mimetype": "text/x-python",
   "name": "python",
   "nbconvert_exporter": "python",
   "pygments_lexer": "ipython3",
   "version": "3.9.7"
  }
 },
 "nbformat": 4,
 "nbformat_minor": 2
}
