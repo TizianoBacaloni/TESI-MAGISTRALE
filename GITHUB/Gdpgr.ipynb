{
 "cells": [
  {
   "cell_type": "code",
   "execution_count": 72,
   "metadata": {},
   "outputs": [],
   "source": [
    "import numpy as np\n",
    "import pandas as pd"
   ]
  },
  {
   "cell_type": "markdown",
   "metadata": {},
   "source": [
    "## Dati  Quarterly real GDP growth (period on period)\n",
    "**https://data-explorer.oecd.org/vis?df[ds]=dsDisseminateFinalDMZ&df[id]=DSD_NAMAIN1%40DF_QNA_EXPENDITURE_GROWTH_OECD&df[ag]=OECD.SDD.NAD&df[vs]=1.0&pd=2000-Q1%2C2022-Q4&dq=Q..GBR%2BSWE%2BESP%2BPRT%2BJPN%2BITA%2BGRC%2BDEU%2BFRA%2BFIN%2BBEL%2BAUT...B1GQ......G1.&to[TIME_PERIOD]=false&vw=tb**"
   ]
  },
  {
   "cell_type": "code",
   "execution_count": 73,
   "metadata": {},
   "outputs": [],
   "source": [
    "df = pd.read_csv('/Users/tiziana/Desktop/PYTHON/TESI MAGISTRALE/DATI/GDP_GR/Quarterly real GDP growth - OECD countries.csv')\n",
    "df = df[['Reference area','TIME_PERIOD','OBS_VALUE']]"
   ]
  },
  {
   "cell_type": "code",
   "execution_count": 74,
   "metadata": {},
   "outputs": [],
   "source": [
    "df.columns = ['Country','Period','Value']"
   ]
  },
  {
   "cell_type": "code",
   "execution_count": 75,
   "metadata": {},
   "outputs": [
    {
     "name": "stderr",
     "output_type": "stream",
     "text": [
      "/var/folders/dh/zp5lxqxj269938btf9rcxlh40000gn/T/ipykernel_767/2896014529.py:1: FutureWarning: The default value of numeric_only in DataFrameGroupBy.sum is deprecated. In a future version, numeric_only will default to False. Either specify numeric_only or select only columns which should be valid for the function.\n",
      "  nazioni = df.groupby('Country').sum().index\n",
      "/var/folders/dh/zp5lxqxj269938btf9rcxlh40000gn/T/ipykernel_767/2896014529.py:4: FutureWarning: The default value of numeric_only in DataFrameGroupBy.sum is deprecated. In a future version, numeric_only will default to False. Either specify numeric_only or select only columns which should be valid for the function.\n",
      "  anni = df.groupby('Period').sum().index\n"
     ]
    },
    {
     "data": {
      "text/plain": [
       "'2000-Q1'"
      ]
     },
     "execution_count": 75,
     "metadata": {},
     "output_type": "execute_result"
    }
   ],
   "source": [
    "nazioni = df.groupby('Country').sum().index\n",
    "nazioni\n",
    "\n",
    "anni = df.groupby('Period').sum().index\n",
    "anni[0]"
   ]
  },
  {
   "cell_type": "code",
   "execution_count": 76,
   "metadata": {},
   "outputs": [],
   "source": [
    "df.set_index(['Country'],inplace=True)"
   ]
  },
  {
   "cell_type": "code",
   "execution_count": 81,
   "metadata": {},
   "outputs": [
    {
     "name": "stdout",
     "output_type": "stream",
     "text": [
      " per Austria il primo anno è 2000-Q1 ed ultimo è 2022-Q4\n",
      " per Belgium il primo anno è 2000-Q1 ed ultimo è 2022-Q4\n",
      " per Finland il primo anno è 2000-Q1 ed ultimo è 2022-Q4\n",
      " per France il primo anno è 2000-Q1 ed ultimo è 2022-Q4\n",
      " per Germany il primo anno è 2000-Q1 ed ultimo è 2022-Q4\n",
      " per Greece il primo anno è 2000-Q1 ed ultimo è 2022-Q4\n",
      " per Italy il primo anno è 2000-Q1 ed ultimo è 2022-Q4\n",
      " per Japan il primo anno è 2000-Q1 ed ultimo è 2022-Q4\n",
      " per Netherlands il primo anno è 2000-Q1 ed ultimo è 2022-Q4\n",
      " per Portugal il primo anno è 2000-Q1 ed ultimo è 2022-Q4\n",
      " per Spain il primo anno è 2000-Q1 ed ultimo è 2022-Q4\n",
      " per Sweden il primo anno è 2000-Q1 ed ultimo è 2022-Q4\n",
      " per United Kingdom il primo anno è 2000-Q1 ed ultimo è 2022-Q4\n",
      " per United States il primo anno è 2000-Q1 ed ultimo è 2022-Q4\n"
     ]
    },
    {
     "name": "stderr",
     "output_type": "stream",
     "text": [
      "/var/folders/dh/zp5lxqxj269938btf9rcxlh40000gn/T/ipykernel_767/647994375.py:10: SettingWithCopyWarning: \n",
      "A value is trying to be set on a copy of a slice from a DataFrame.\n",
      "Try using .loc[row_indexer,col_indexer] = value instead\n",
      "\n",
      "See the caveats in the documentation: https://pandas.pydata.org/pandas-docs/stable/user_guide/indexing.html#returning-a-view-versus-a-copy\n",
      "  gdp['Period'] = gdp['Period'].sort_values()\n",
      "/var/folders/dh/zp5lxqxj269938btf9rcxlh40000gn/T/ipykernel_767/647994375.py:14: SettingWithCopyWarning: \n",
      "A value is trying to be set on a copy of a slice from a DataFrame.\n",
      "Try using .loc[row_indexer,col_indexer] = value instead\n",
      "\n",
      "See the caveats in the documentation: https://pandas.pydata.org/pandas-docs/stable/user_guide/indexing.html#returning-a-view-versus-a-copy\n",
      "  gdp['Value'] = (gdp['Value'] - mean)/std\n"
     ]
    }
   ],
   "source": [
    "\n",
    "\n",
    "for nazione in nazioni:\n",
    "    \n",
    "    naz = df.loc[nazione]\n",
    "    anni = list(naz.groupby('Period').sum().index)\n",
    "    primo = anni[0]\n",
    "    ultimo = anni[-1]\n",
    "    print(f' per {nazione} il primo anno è {primo} ed ultimo è {ultimo}')\n",
    "    \n",
    "gdp = df.loc['Austria']\n",
    "gdp['Period'] = gdp['Period'].sort_values()\n",
    "mean = gdp['Value'].mean()\n",
    "std = gdp['Value'].std()\n",
    "\n",
    "gdp['Value'] = (gdp['Value'] - mean)/std        "
   ]
  },
  {
   "cell_type": "code",
   "execution_count": 98,
   "metadata": {},
   "outputs": [
    {
     "name": "stderr",
     "output_type": "stream",
     "text": [
      "/var/folders/dh/zp5lxqxj269938btf9rcxlh40000gn/T/ipykernel_767/3539033834.py:5: SettingWithCopyWarning: \n",
      "A value is trying to be set on a copy of a slice from a DataFrame.\n",
      "Try using .loc[row_indexer,col_indexer] = value instead\n",
      "\n",
      "See the caveats in the documentation: https://pandas.pydata.org/pandas-docs/stable/user_guide/indexing.html#returning-a-view-versus-a-copy\n",
      "  data['Period'] = data['Period'].sort_values()\n",
      "/var/folders/dh/zp5lxqxj269938btf9rcxlh40000gn/T/ipykernel_767/3539033834.py:9: SettingWithCopyWarning: \n",
      "A value is trying to be set on a copy of a slice from a DataFrame.\n",
      "Try using .loc[row_indexer,col_indexer] = value instead\n",
      "\n",
      "See the caveats in the documentation: https://pandas.pydata.org/pandas-docs/stable/user_guide/indexing.html#returning-a-view-versus-a-copy\n",
      "  data['Value'] = (data['Value'] - mean)/std\n"
     ]
    }
   ],
   "source": [
    "database = {}\n",
    "for nazione in nazioni:\n",
    "    \n",
    "    data = df.loc[nazione]\n",
    "    data['Period'] = data['Period'].sort_values()\n",
    "    mean = data['Value'].mean()\n",
    "    std = data['Value'].std()\n",
    "\n",
    "    data['Value'] = (data['Value'] - mean)/std\n",
    "    database[nazione] = data\n",
    "\n",
    "database = pd.concat(database.values()\n",
    "                     ,axis=0)\n",
    "    \n"
   ]
  },
  {
   "cell_type": "code",
   "execution_count": 101,
   "metadata": {},
   "outputs": [
    {
     "data": {
      "text/html": [
       "<div>\n",
       "<style scoped>\n",
       "    .dataframe tbody tr th:only-of-type {\n",
       "        vertical-align: middle;\n",
       "    }\n",
       "\n",
       "    .dataframe tbody tr th {\n",
       "        vertical-align: top;\n",
       "    }\n",
       "\n",
       "    .dataframe thead th {\n",
       "        text-align: right;\n",
       "    }\n",
       "</style>\n",
       "<table border=\"1\" class=\"dataframe\">\n",
       "  <thead>\n",
       "    <tr style=\"text-align: right;\">\n",
       "      <th></th>\n",
       "      <th>Period</th>\n",
       "      <th>Value</th>\n",
       "    </tr>\n",
       "    <tr>\n",
       "      <th>Country</th>\n",
       "      <th></th>\n",
       "      <th></th>\n",
       "    </tr>\n",
       "  </thead>\n",
       "  <tbody>\n",
       "    <tr>\n",
       "      <th>Austria</th>\n",
       "      <td>2000-Q1</td>\n",
       "      <td>0.036041</td>\n",
       "    </tr>\n",
       "    <tr>\n",
       "      <th>Austria</th>\n",
       "      <td>2000-Q2</td>\n",
       "      <td>-0.102128</td>\n",
       "    </tr>\n",
       "    <tr>\n",
       "      <th>Austria</th>\n",
       "      <td>2000-Q3</td>\n",
       "      <td>0.170009</td>\n",
       "    </tr>\n",
       "    <tr>\n",
       "      <th>Austria</th>\n",
       "      <td>2000-Q4</td>\n",
       "      <td>0.140791</td>\n",
       "    </tr>\n",
       "    <tr>\n",
       "      <th>Austria</th>\n",
       "      <td>2001-Q1</td>\n",
       "      <td>0.151958</td>\n",
       "    </tr>\n",
       "    <tr>\n",
       "      <th>...</th>\n",
       "      <td>...</td>\n",
       "      <td>...</td>\n",
       "    </tr>\n",
       "    <tr>\n",
       "      <th>United States</th>\n",
       "      <td>2021-Q4</td>\n",
       "      <td>-0.006389</td>\n",
       "    </tr>\n",
       "    <tr>\n",
       "      <th>United States</th>\n",
       "      <td>2022-Q1</td>\n",
       "      <td>0.532368</td>\n",
       "    </tr>\n",
       "    <tr>\n",
       "      <th>United States</th>\n",
       "      <td>2022-Q2</td>\n",
       "      <td>0.590407</td>\n",
       "    </tr>\n",
       "    <tr>\n",
       "      <th>United States</th>\n",
       "      <td>2022-Q3</td>\n",
       "      <td>-0.652320</td>\n",
       "    </tr>\n",
       "    <tr>\n",
       "      <th>United States</th>\n",
       "      <td>2022-Q4</td>\n",
       "      <td>0.271476</td>\n",
       "    </tr>\n",
       "  </tbody>\n",
       "</table>\n",
       "<p>1288 rows × 2 columns</p>\n",
       "</div>"
      ],
      "text/plain": [
       "                Period     Value\n",
       "Country                         \n",
       "Austria        2000-Q1  0.036041\n",
       "Austria        2000-Q2 -0.102128\n",
       "Austria        2000-Q3  0.170009\n",
       "Austria        2000-Q4  0.140791\n",
       "Austria        2001-Q1  0.151958\n",
       "...                ...       ...\n",
       "United States  2021-Q4 -0.006389\n",
       "United States  2022-Q1  0.532368\n",
       "United States  2022-Q2  0.590407\n",
       "United States  2022-Q3 -0.652320\n",
       "United States  2022-Q4  0.271476\n",
       "\n",
       "[1288 rows x 2 columns]"
      ]
     },
     "execution_count": 101,
     "metadata": {},
     "output_type": "execute_result"
    }
   ],
   "source": [
    "database"
   ]
  },
  {
   "cell_type": "code",
   "execution_count": 113,
   "metadata": {},
   "outputs": [],
   "source": [
    "database.to_csv('GDP GROWTH STANDARDIZED DATA.csv')"
   ]
  }
 ],
 "metadata": {
  "kernelspec": {
   "display_name": "qmp_env",
   "language": "python",
   "name": "python3"
  },
  "language_info": {
   "codemirror_mode": {
    "name": "ipython",
    "version": 3
   },
   "file_extension": ".py",
   "mimetype": "text/x-python",
   "name": "python",
   "nbconvert_exporter": "python",
   "pygments_lexer": "ipython3",
   "version": "3.9.7"
  }
 },
 "nbformat": 4,
 "nbformat_minor": 2
}
